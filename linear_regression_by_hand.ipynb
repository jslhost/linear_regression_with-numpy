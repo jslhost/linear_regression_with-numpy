{
 "cells": [
  {
   "cell_type": "code",
   "execution_count": 4,
   "metadata": {},
   "outputs": [],
   "source": [
    "import numpy as np\n",
    "import pandas as pd"
   ]
  },
  {
   "cell_type": "markdown",
   "metadata": {},
   "source": [
    "#### On créé des données factices avec lesquelles on va travailler"
   ]
  },
  {
   "cell_type": "code",
   "execution_count": 338,
   "metadata": {},
   "outputs": [
    {
     "data": {
      "text/html": [
       "<div>\n",
       "<style scoped>\n",
       "    .dataframe tbody tr th:only-of-type {\n",
       "        vertical-align: middle;\n",
       "    }\n",
       "\n",
       "    .dataframe tbody tr th {\n",
       "        vertical-align: top;\n",
       "    }\n",
       "\n",
       "    .dataframe thead th {\n",
       "        text-align: right;\n",
       "    }\n",
       "</style>\n",
       "<table border=\"1\" class=\"dataframe\">\n",
       "  <thead>\n",
       "    <tr style=\"text-align: right;\">\n",
       "      <th></th>\n",
       "      <th>Temperature</th>\n",
       "      <th>Humidite</th>\n",
       "      <th>Pression</th>\n",
       "      <th>Precipitations</th>\n",
       "    </tr>\n",
       "  </thead>\n",
       "  <tbody>\n",
       "    <tr>\n",
       "      <th>0</th>\n",
       "      <td>20.976270</td>\n",
       "      <td>63.715211</td>\n",
       "      <td>73.979070</td>\n",
       "      <td>8.279250</td>\n",
       "    </tr>\n",
       "    <tr>\n",
       "      <th>1</th>\n",
       "      <td>24.303787</td>\n",
       "      <td>40.402548</td>\n",
       "      <td>45.467139</td>\n",
       "      <td>12.592366</td>\n",
       "    </tr>\n",
       "    <tr>\n",
       "      <th>2</th>\n",
       "      <td>22.055268</td>\n",
       "      <td>59.033048</td>\n",
       "      <td>49.468259</td>\n",
       "      <td>15.571685</td>\n",
       "    </tr>\n",
       "    <tr>\n",
       "      <th>3</th>\n",
       "      <td>20.897664</td>\n",
       "      <td>68.350816</td>\n",
       "      <td>26.294250</td>\n",
       "      <td>17.031156</td>\n",
       "    </tr>\n",
       "    <tr>\n",
       "      <th>4</th>\n",
       "      <td>18.473096</td>\n",
       "      <td>41.759017</td>\n",
       "      <td>56.428656</td>\n",
       "      <td>16.328254</td>\n",
       "    </tr>\n",
       "    <tr>\n",
       "      <th>...</th>\n",
       "      <td>...</td>\n",
       "      <td>...</td>\n",
       "      <td>...</td>\n",
       "      <td>...</td>\n",
       "    </tr>\n",
       "    <tr>\n",
       "      <th>995</th>\n",
       "      <td>11.953527</td>\n",
       "      <td>71.651262</td>\n",
       "      <td>85.043401</td>\n",
       "      <td>6.992787</td>\n",
       "    </tr>\n",
       "    <tr>\n",
       "      <th>996</th>\n",
       "      <td>20.298444</td>\n",
       "      <td>68.847925</td>\n",
       "      <td>51.421284</td>\n",
       "      <td>8.697473</td>\n",
       "    </tr>\n",
       "    <tr>\n",
       "      <th>997</th>\n",
       "      <td>28.768240</td>\n",
       "      <td>59.204312</td>\n",
       "      <td>32.507165</td>\n",
       "      <td>16.600059</td>\n",
       "    </tr>\n",
       "    <tr>\n",
       "      <th>998</th>\n",
       "      <td>14.572931</td>\n",
       "      <td>65.754561</td>\n",
       "      <td>74.151326</td>\n",
       "      <td>18.656124</td>\n",
       "    </tr>\n",
       "    <tr>\n",
       "      <th>999</th>\n",
       "      <td>23.542823</td>\n",
       "      <td>60.070925</td>\n",
       "      <td>64.279032</td>\n",
       "      <td>6.166769</td>\n",
       "    </tr>\n",
       "  </tbody>\n",
       "</table>\n",
       "<p>1000 rows × 4 columns</p>\n",
       "</div>"
      ],
      "text/plain": [
       "     Temperature   Humidite   Pression  Precipitations\n",
       "0      20.976270  63.715211  73.979070        8.279250\n",
       "1      24.303787  40.402548  45.467139       12.592366\n",
       "2      22.055268  59.033048  49.468259       15.571685\n",
       "3      20.897664  68.350816  26.294250       17.031156\n",
       "4      18.473096  41.759017  56.428656       16.328254\n",
       "..           ...        ...        ...             ...\n",
       "995    11.953527  71.651262  85.043401        6.992787\n",
       "996    20.298444  68.847925  51.421284        8.697473\n",
       "997    28.768240  59.204312  32.507165       16.600059\n",
       "998    14.572931  65.754561  74.151326       18.656124\n",
       "999    23.542823  60.070925  64.279032        6.166769\n",
       "\n",
       "[1000 rows x 4 columns]"
      ]
     },
     "execution_count": 338,
     "metadata": {},
     "output_type": "execute_result"
    }
   ],
   "source": [
    "# Création de données aléatoires pour chaque colonne\n",
    "np.random.seed(0)\n",
    "\n",
    "temperature = np.random.uniform(10, 30, 1000)  # Température en degrés Celsius\n",
    "humidite = np.random.uniform(40, 80, 1000)  # Humidité relative en pourcentage\n",
    "pression = np.random.uniform(500, 9000, 1000)  # Pression atmosphérique en hPa\n",
    "precipitations = np.random.uniform(0, 20, 1000)  # Précipitations en millimètres\n",
    "\n",
    "# Création d'un DataFrame pandas avec les données\n",
    "data = pd.DataFrame({\n",
    "    'Temperature': temperature,\n",
    "    'Humidite': humidite,\n",
    "    'Pression': pression,\n",
    "    'Precipitations': precipitations\n",
    "})\n",
    "\n",
    "# Affichage du DataFrame\n",
    "data['Pression'] = data['Pression'] /100\n",
    "\n",
    "data"
   ]
  },
  {
   "cell_type": "code",
   "execution_count": 349,
   "metadata": {},
   "outputs": [],
   "source": [
    "X = data.loc[:799, ['Humidite', 'Pression', 'Precipitations']].values\n",
    "y = data.loc[:799, 'Temperature'].values"
   ]
  },
  {
   "cell_type": "code",
   "execution_count": 353,
   "metadata": {},
   "outputs": [],
   "source": [
    "X_val = data.loc[800:, ['Humidite', 'Pression', 'Precipitations']].values\n",
    "y_val = data.loc[800:, 'Temperature'].values"
   ]
  },
  {
   "cell_type": "markdown",
   "metadata": {},
   "source": [
    "#### On créé une fonction qui nous permet de normaliser nos données numériques"
   ]
  },
  {
   "cell_type": "code",
   "execution_count": 356,
   "metadata": {},
   "outputs": [],
   "source": [
    "def normalize_data(X):\n",
    "    return (X - X.mean()) / np.std(X)"
   ]
  },
  {
   "cell_type": "code",
   "execution_count": 357,
   "metadata": {},
   "outputs": [
    {
     "data": {
      "text/plain": [
       "array([[ 0.90619967,  1.28988256, -1.16610366],\n",
       "       [ 0.03472728,  0.22405148, -1.00487105],\n",
       "       [ 0.73117137,  0.37362109, -0.89349834],\n",
       "       ...,\n",
       "       [ 0.85871065,  1.04381086, -0.85097629],\n",
       "       [ 1.27054927,  1.43750789, -1.12758272],\n",
       "       [ 0.43544148,  0.15166906, -1.42656631]])"
      ]
     },
     "execution_count": 357,
     "metadata": {},
     "output_type": "execute_result"
    }
   ],
   "source": [
    "X_normalize = normalize_data(X)\n",
    "X_normalize"
   ]
  },
  {
   "cell_type": "markdown",
   "metadata": {},
   "source": [
    "#### On créé enfin la fonction d'entrainement par descente de gradient"
   ]
  },
  {
   "cell_type": "code",
   "execution_count": 358,
   "metadata": {},
   "outputs": [],
   "source": [
    "def train_linear_regression(X, y, nb_iter, learning_rate):\n",
    "    np.random.seed(0)\n",
    "    weights = np.random.normal(size=(X.shape[1]))\n",
    "    n_rows = X.shape[0]\n",
    "    history = {'Iter' : [], 'MSE' : [], 'RMSE' : [], 'Weights' : []}\n",
    "\n",
    "    for i in range(nb_iter):\n",
    "        history['Iter'].append(i+1)\n",
    "        history['Weights'].append(weights)\n",
    "        predictions = X.dot(weights)\n",
    "\n",
    "        MSE = np.mean((y - predictions)**2)\n",
    "        history['MSE'].append(MSE)\n",
    "        RMSE = np.sqrt(MSE)\n",
    "        history['RMSE'].append(RMSE)\n",
    "\n",
    "        grad_weights = (2/n_rows) * (X.T).dot((predictions - y))\n",
    "        weights = weights - (learning_rate * grad_weights)\n",
    "\n",
    "    for i in range(0, 4):\n",
    "        print(f\"Iteration n°{history['Iter'][i]}, MSE : {history['MSE'][i]}, RMSE : {history['RMSE'][i]}\")\n",
    "    print('...')\n",
    "    for i in range(-4, 0):\n",
    "        print(f\"Iteration n°{history['Iter'][i]}, MSE : {history['MSE'][i]}, RMSE : {history['RMSE'][i]}\")\n",
    "\n",
    "    return history"
   ]
  },
  {
   "cell_type": "markdown",
   "metadata": {},
   "source": [
    "#### Attention, l'implémentation est très sensible à la valeur du learning rate, ne pas hésiter à tester différentes valeurs"
   ]
  },
  {
   "cell_type": "code",
   "execution_count": 417,
   "metadata": {},
   "outputs": [
    {
     "name": "stdout",
     "output_type": "stream",
     "text": [
      "Iteration n°1, MSE : 412.26797715830514, RMSE : 20.30438320063688\n",
      "Iteration n°2, MSE : 403.66053194554013, RMSE : 20.091304884092025\n",
      "Iteration n°3, MSE : 395.26624318960893, RMSE : 19.88130386040133\n",
      "Iteration n°4, MSE : 387.0797817314179, RMSE : 19.67434323507186\n",
      "...\n",
      "Iteration n°997, MSE : 48.77880421904011, RMSE : 6.9841824302519555\n",
      "Iteration n°998, MSE : 48.77467797461541, RMSE : 6.9838870247603095\n",
      "Iteration n°999, MSE : 48.77055893067362, RMSE : 6.983592122301647\n",
      "Iteration n°1000, MSE : 48.76644707366933, RMSE : 6.983297721969852\n"
     ]
    }
   ],
   "source": [
    "history = train_linear_regression(X_normalize, y, nb_iter=1000, learning_rate=0.003)"
   ]
  },
  {
   "cell_type": "code",
   "execution_count": 418,
   "metadata": {},
   "outputs": [
    {
     "data": {
      "image/png": "[encoded data removed]",
      "text/plain": [
       "<Figure size 1000x400 with 1 Axes>"
      ]
     },
     "metadata": {},
     "output_type": "display_data"
    }
   ],
   "source": [
    "import matplotlib.pyplot as plt\n",
    "plt.style.use('seaborn')\n",
    "\n",
    "plt.figure(figsize=(10, 4))\n",
    "plt.plot(history['Iter'], history['MSE'])\n",
    "plt.xlabel(\"Nombre d'itérations\")\n",
    "plt.ylabel(\"Fonction coût (MSE)\")\n",
    "plt.title(\"Evolution de la fonction coût au cours de l'entrainement par descente de gradient (normalisation)\")\n",
    "plt.show()"
   ]
  },
  {
   "cell_type": "code",
   "execution_count": 419,
   "metadata": {},
   "outputs": [
    {
     "name": "stdout",
     "output_type": "stream",
     "text": [
      "Iteration n°1, MSE : 14026.70666461966, RMSE : 118.43439814774955\n",
      "Iteration n°2, MSE : 1303.352773789505, RMSE : 36.10197742215106\n",
      "Iteration n°3, MSE : 297.6023634236774, RMSE : 17.25115542286016\n",
      "Iteration n°4, MSE : 198.04506628230928, RMSE : 14.072848548972212\n",
      "...\n",
      "Iteration n°997, MSE : 45.931294262211786, RMSE : 6.777263036227219\n",
      "Iteration n°998, MSE : 45.93129416569698, RMSE : 6.7772630291067335\n",
      "Iteration n°999, MSE : 45.93129407057076, RMSE : 6.777263022088692\n",
      "Iteration n°1000, MSE : 45.93129397681314, RMSE : 6.777263015171622\n"
     ]
    }
   ],
   "source": [
    "history = train_linear_regression(X, y, nb_iter=1000, learning_rate=0.0001)"
   ]
  },
  {
   "cell_type": "code",
   "execution_count": 425,
   "metadata": {},
   "outputs": [
    {
     "data": {
      "image/png": "[encoded data removed]",
      "text/plain": [
       "<Figure size 1000x400 with 1 Axes>"
      ]
     },
     "metadata": {},
     "output_type": "display_data"
    }
   ],
   "source": [
    "import matplotlib.pyplot as plt\n",
    "plt.style.use('seaborn')\n",
    "\n",
    "plt.figure(figsize=(10, 4))\n",
    "plt.plot(history['Iter'], history['MSE'])\n",
    "plt.xlabel(\"Nombre d'itérations\")\n",
    "plt.ylabel(\"Fonction coût (MSE)\")\n",
    "plt.title(\"Evolution de la fonction coût au cours de l'entrainement par descente de gradient (pas de normalisation)\")\n",
    "plt.show()"
   ]
  },
  {
   "cell_type": "markdown",
   "metadata": {},
   "source": [
    "#### Nouvelle prédiction à partir du modèle entrainé "
   ]
  },
  {
   "cell_type": "code",
   "execution_count": 421,
   "metadata": {},
   "outputs": [
    {
     "name": "stdout",
     "output_type": "stream",
     "text": [
      "Meilleurs paramètres du modèle : [0.25824124 0.04052273 0.17032108]\n",
      "Nouvelle feature x : [80 41 10]\n",
      "Prédiction : 24.02394184050671\n"
     ]
    }
   ],
   "source": [
    "final_weights = history['Weights'][-1]\n",
    "print(\"Meilleurs paramètres du modèle :\", final_weights)\n",
    "new_X_value = np.array([80, 41, 10])\n",
    "print(\"Nouvelle feature x :\", new_X_value)\n",
    "\n",
    "prediction = new_X_value.dot(final_weights)\n",
    "print(\"Prédiction :\", prediction)"
   ]
  },
  {
   "cell_type": "code",
   "execution_count": 422,
   "metadata": {},
   "outputs": [
    {
     "data": {
      "text/plain": [
       "6.777263015171622"
      ]
     },
     "execution_count": 422,
     "metadata": {},
     "output_type": "execute_result"
    }
   ],
   "source": [
    "train_rmse = np.sqrt(np.mean((X.dot(final_weights) - y)**2))\n",
    "train_rmse"
   ]
  },
  {
   "cell_type": "code",
   "execution_count": 423,
   "metadata": {},
   "outputs": [
    {
     "data": {
      "text/plain": [
       "6.884343776429267"
      ]
     },
     "execution_count": 423,
     "metadata": {},
     "output_type": "execute_result"
    }
   ],
   "source": [
    "val_rmse = np.sqrt(np.mean((X_val.dot(final_weights) - y_val)**2))\n",
    "val_rmse"
   ]
  }
 ],
 "metadata": {
  "kernelspec": {
   "display_name": "base",
   "language": "python",
   "name": "python3"
  },
  "language_info": {
   "codemirror_mode": {
    "name": "ipython",
    "version": 3
   },
   "file_extension": ".py",
   "mimetype": "text/x-python",
   "name": "python",
   "nbconvert_exporter": "python",
   "pygments_lexer": "ipython3",
   "version": "3.8.8"
  }
 },
 "nbformat": 4,
 "nbformat_minor": 2
}
